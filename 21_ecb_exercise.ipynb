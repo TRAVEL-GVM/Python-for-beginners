{
 "cells": [
  {
   "cell_type": "raw",
   "id": "ee5b85a3",
   "metadata": {
    "vscode": {
     "languageId": "raw"
    }
   },
   "source": [
    "---\n",
    "title: \"ECB Inflation graphics\"\n",
    "author: \"César Freire\"\n",
    "date: \"2024-06-27\"\n",
    "format:  html\n",
    "jupyter: python3\n",
    "embed-resources: true\n",
    "link-external-icon: true\n",
    "---"
   ]
  },
  {
   "cell_type": "markdown",
   "id": "f2bf52c5-97f5-4121-96c9-852c421e0c1c",
   "metadata": {},
   "source": [
    "__Extract data from ECB site__\n",
    "\n",
    "https://data.ecb.europa.eu/help/api/overview\n",
    "\n",
    "ECB » Main figures » Inflation » Download » CSV\n",
    "\n",
    "## Exercise\n",
    "\n",
    "* Import `pandas` and `matplotlib` libraries\n",
    "* Create a Pandas DataFrame only with 'U2' and 'PT' data (columns 19 and 22)\n",
    "* Plot data over time\n",
    "* Create filter function to extract data between index\n",
    "* With `ipywidgets` create an interactive solution to filter by index with `IntRangeSlider`\n",
    "\n",
    "https://minrk-ipywidgets.readthedocs.io/en/latest/examples/Widget%20List.html\n",
    "\n",
    "## Screenshots\n",
    "\n",
    "__plot example__\n",
    "\n",
    "![](screenshots/20240626-181831.png)\n",
    "\n",
    "__ipywidgets__\n",
    "\n",
    "![](screenshots/20240626-184136.png)"
   ]
  },
  {
   "cell_type": "markdown",
   "id": "e498a325",
   "metadata": {},
   "source": [
    "## Libraries"
   ]
  },
  {
   "cell_type": "code",
   "execution_count": null,
   "id": "86ffd0bb",
   "metadata": {},
   "outputs": [],
   "source": [
    "# code"
   ]
  },
  {
   "cell_type": "markdown",
   "id": "c04dea8f",
   "metadata": {},
   "source": [
    "## Importing data to Pandas"
   ]
  },
  {
   "cell_type": "code",
   "execution_count": null,
   "id": "9cd5420a-7a04-4a58-a1de-ed0612b97001",
   "metadata": {},
   "outputs": [],
   "source": [
    "# code"
   ]
  },
  {
   "cell_type": "markdown",
   "id": "cdad52d4",
   "metadata": {},
   "source": [
    "## Plot graphics"
   ]
  },
  {
   "cell_type": "code",
   "execution_count": null,
   "id": "03b3e147-36f3-4fe6-ab02-af8f63e87e4b",
   "metadata": {},
   "outputs": [],
   "source": [
    "# code"
   ]
  },
  {
   "cell_type": "code",
   "execution_count": null,
   "id": "bf211e38",
   "metadata": {},
   "outputs": [],
   "source": [
    "def filter_by_index():\n",
    "   pass"
   ]
  },
  {
   "cell_type": "code",
   "execution_count": null,
   "id": "20631765",
   "metadata": {},
   "outputs": [],
   "source": [
    "%pip install -q ipywidgets"
   ]
  },
  {
   "cell_type": "code",
   "execution_count": null,
   "id": "22c124fa-ed7c-442d-bede-477c6c7f45ca",
   "metadata": {},
   "outputs": [],
   "source": [
    "from ipywidgets import interact\n",
    "\n",
    "# code\n"
   ]
  }
 ],
 "metadata": {
  "kernelspec": {
   "display_name": "Python 3 (ipykernel)",
   "language": "python",
   "name": "python3"
  },
  "language_info": {
   "codemirror_mode": {
    "name": "ipython",
    "version": 3
   },
   "file_extension": ".py",
   "mimetype": "text/x-python",
   "name": "python",
   "nbconvert_exporter": "python",
   "pygments_lexer": "ipython3",
   "version": "3.12.3"
  }
 },
 "nbformat": 4,
 "nbformat_minor": 5
}
