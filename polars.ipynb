{
 "cells": [
  {
   "cell_type": "code",
   "execution_count": 2,
   "metadata": {},
   "outputs": [
    {
     "name": "stdout",
     "output_type": "stream",
     "text": [
      "Collecting polars\n",
      "  Downloading polars-1.2.1-cp38-abi3-win_amd64.whl (30.8 MB)\n",
      "Installing collected packages: polars\n",
      "Successfully installed polars-1.2.1\n"
     ]
    }
   ],
   "source": [
    "!pip install polars"
   ]
  },
  {
   "cell_type": "code",
   "execution_count": 4,
   "metadata": {},
   "outputs": [],
   "source": [
    "import polars as pl"
   ]
  },
  {
   "cell_type": "code",
   "execution_count": 7,
   "metadata": {},
   "outputs": [
    {
     "data": {
      "text/html": [
       "<div><style>\n",
       ".dataframe > thead > tr,\n",
       ".dataframe > tbody > tr {\n",
       "  text-align: right;\n",
       "  white-space: pre-wrap;\n",
       "}\n",
       "</style>\n",
       "<small>shape: (5, 3)</small><table border=\"1\" class=\"dataframe\"><thead><tr><th>DATE</th><th>TIME PERIOD</th><th>Euribor 1-year - Historical close, average of observations through period (FM.M.U2.EUR.RT.MM.EURIBOR1YD_.HSTA)</th></tr><tr><td>str</td><td>str</td><td>f64</td></tr></thead><tbody><tr><td>&quot;1994-01-31&quot;</td><td>&quot;1994Jan&quot;</td><td>6.34</td></tr><tr><td>&quot;1994-02-28&quot;</td><td>&quot;1994Feb&quot;</td><td>6.42</td></tr><tr><td>&quot;1994-03-31&quot;</td><td>&quot;1994Mar&quot;</td><td>6.55</td></tr><tr><td>&quot;1994-04-30&quot;</td><td>&quot;1994Apr&quot;</td><td>6.46</td></tr><tr><td>&quot;1994-05-31&quot;</td><td>&quot;1994May&quot;</td><td>6.25</td></tr></tbody></table></div>"
      ],
      "text/plain": [
       "shape: (5, 3)\n",
       "┌────────────┬─────────────┬─────────────────────────────────┐\n",
       "│ DATE       ┆ TIME PERIOD ┆ Euribor 1-year - Historical cl… │\n",
       "│ ---        ┆ ---         ┆ ---                             │\n",
       "│ str        ┆ str         ┆ f64                             │\n",
       "╞════════════╪═════════════╪═════════════════════════════════╡\n",
       "│ 1994-01-31 ┆ 1994Jan     ┆ 6.34                            │\n",
       "│ 1994-02-28 ┆ 1994Feb     ┆ 6.42                            │\n",
       "│ 1994-03-31 ┆ 1994Mar     ┆ 6.55                            │\n",
       "│ 1994-04-30 ┆ 1994Apr     ┆ 6.46                            │\n",
       "│ 1994-05-31 ┆ 1994May     ┆ 6.25                            │\n",
       "└────────────┴─────────────┴─────────────────────────────────┘"
      ]
     },
     "execution_count": 7,
     "metadata": {},
     "output_type": "execute_result"
    }
   ],
   "source": [
    "\n",
    "username = 'B28658' # insert your username\n",
    "data_main_path = f'C:/Users/{username}/Novo Banco S.A/GVM Team - General/11_MarketRisk/PROCESSO_VALIDACAO_2024/01_MARKET_RISK/Valid Anual/05_DADOS/'\n",
    "euribors_path = data_main_path + 'euribors/'\n",
    "\n",
    "df = pl.read_csv(euribors_path + 'Euribor12M.csv')\n",
    "df.head()"
   ]
  },
  {
   "cell_type": "code",
   "execution_count": 10,
   "metadata": {},
   "outputs": [
    {
     "data": {
      "text/html": [
       "<div><style>\n",
       ".dataframe > thead > tr,\n",
       ".dataframe > tbody > tr {\n",
       "  text-align: right;\n",
       "  white-space: pre-wrap;\n",
       "}\n",
       "</style>\n",
       "<small>shape: (5, 3)</small><table border=\"1\" class=\"dataframe\"><thead><tr><th>DATE</th><th>TIME PERIOD</th><th>Euribor 1-year - Historical close, average of observations through period (FM.M.U2.EUR.RT.MM.EURIBOR1YD_.HSTA)</th></tr><tr><td>str</td><td>str</td><td>f64</td></tr></thead><tbody><tr><td>&quot;1995-01-31&quot;</td><td>&quot;1995Jan&quot;</td><td>7.66</td></tr><tr><td>&quot;1995-02-28&quot;</td><td>&quot;1995Feb&quot;</td><td>7.5</td></tr><tr><td>&quot;1995-03-31&quot;</td><td>&quot;1995Mar&quot;</td><td>8.02</td></tr><tr><td>&quot;1995-04-30&quot;</td><td>&quot;1995Apr&quot;</td><td>7.63</td></tr><tr><td>&quot;1995-05-31&quot;</td><td>&quot;1995May&quot;</td><td>7.25</td></tr></tbody></table></div>"
      ],
      "text/plain": [
       "shape: (5, 3)\n",
       "┌────────────┬─────────────┬─────────────────────────────────┐\n",
       "│ DATE       ┆ TIME PERIOD ┆ Euribor 1-year - Historical cl… │\n",
       "│ ---        ┆ ---         ┆ ---                             │\n",
       "│ str        ┆ str         ┆ f64                             │\n",
       "╞════════════╪═════════════╪═════════════════════════════════╡\n",
       "│ 1995-01-31 ┆ 1995Jan     ┆ 7.66                            │\n",
       "│ 1995-02-28 ┆ 1995Feb     ┆ 7.5                             │\n",
       "│ 1995-03-31 ┆ 1995Mar     ┆ 8.02                            │\n",
       "│ 1995-04-30 ┆ 1995Apr     ┆ 7.63                            │\n",
       "│ 1995-05-31 ┆ 1995May     ┆ 7.25                            │\n",
       "└────────────┴─────────────┴─────────────────────────────────┘"
      ]
     },
     "execution_count": 10,
     "metadata": {},
     "output_type": "execute_result"
    }
   ],
   "source": [
    "# Filtrar dados\n",
    "filtered_df = df.filter(pl.col('DATE') > '1995-01-01')\n",
    "filtered_df.head()"
   ]
  },
  {
   "cell_type": "code",
   "execution_count": 18,
   "metadata": {},
   "outputs": [
    {
     "data": {
      "text/html": [
       "<div><style>\n",
       ".dataframe > thead > tr,\n",
       ".dataframe > tbody > tr {\n",
       "  text-align: right;\n",
       "  white-space: pre-wrap;\n",
       "}\n",
       "</style>\n",
       "<small>shape: (354, 2)</small><table border=\"1\" class=\"dataframe\"><thead><tr><th>DATE</th><th>Euribor 1-year - Historical close, average of observations through period (FM.M.U2.EUR.RT.MM.EURIBOR1YD_.HSTA)</th></tr><tr><td>str</td><td>f64</td></tr></thead><tbody><tr><td>null</td><td>4.16</td></tr><tr><td>null</td><td>4.05</td></tr><tr><td>null</td><td>4.42</td></tr><tr><td>null</td><td>4.56</td></tr><tr><td>null</td><td>1.3343</td></tr><tr><td>&hellip;</td><td>&hellip;</td></tr><tr><td>null</td><td>-0.4767</td></tr><tr><td>null</td><td>4.1055</td></tr><tr><td>null</td><td>3.2373</td></tr><tr><td>null</td><td>3.75</td></tr><tr><td>null</td><td>2.0669</td></tr></tbody></table></div>"
      ],
      "text/plain": [
       "shape: (354, 2)\n",
       "┌──────┬─────────────────────────────────┐\n",
       "│ DATE ┆ Euribor 1-year - Historical cl… │\n",
       "│ ---  ┆ ---                             │\n",
       "│ str  ┆ f64                             │\n",
       "╞══════╪═════════════════════════════════╡\n",
       "│ null ┆ 4.16                            │\n",
       "│ null ┆ 4.05                            │\n",
       "│ null ┆ 4.42                            │\n",
       "│ null ┆ 4.56                            │\n",
       "│ null ┆ 1.3343                          │\n",
       "│ …    ┆ …                               │\n",
       "│ null ┆ -0.4767                         │\n",
       "│ null ┆ 4.1055                          │\n",
       "│ null ┆ 3.2373                          │\n",
       "│ null ┆ 3.75                            │\n",
       "│ null ┆ 2.0669                          │\n",
       "└──────┴─────────────────────────────────┘"
      ]
     },
     "execution_count": 18,
     "metadata": {},
     "output_type": "execute_result"
    }
   ],
   "source": [
    "filtered_df.group_by('TIME PERIOD').mean()[['DATE', 'Euribor 1-year - Historical close, average of observations through period (FM.M.U2.EUR.RT.MM.EURIBOR1YD_.HSTA)']]"
   ]
  },
  {
   "cell_type": "code",
   "execution_count": null,
   "metadata": {},
   "outputs": [],
   "source": []
  }
 ],
 "metadata": {
  "colab": {
   "provenance": []
  },
  "kernelspec": {
   "display_name": "Python 3",
   "language": "python",
   "name": "python3"
  },
  "language_info": {
   "codemirror_mode": {
    "name": "ipython",
    "version": 3
   },
   "file_extension": ".py",
   "mimetype": "text/x-python",
   "name": "python",
   "nbconvert_exporter": "python",
   "pygments_lexer": "ipython3",
   "version": "3.8.5"
  }
 },
 "nbformat": 4,
 "nbformat_minor": 1
}
