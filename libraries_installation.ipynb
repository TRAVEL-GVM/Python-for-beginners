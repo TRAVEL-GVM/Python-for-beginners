{
 "cells": [
  {
   "cell_type": "markdown",
   "metadata": {},
   "source": [
    "# How to install libraries\n",
    "\n",
    "Most libraries need to be installed before they can be imported and used. Otherwise, the following error will occur."
   ]
  },
  {
   "cell_type": "code",
   "execution_count": 2,
   "metadata": {},
   "outputs": [
    {
     "ename": "ModuleNotFoundError",
     "evalue": "No module named 'mplsoccer'",
     "output_type": "error",
     "traceback": [
      "\u001b[1;31m---------------------------------------------------------------------------\u001b[0m",
      "\u001b[1;31mModuleNotFoundError\u001b[0m                       Traceback (most recent call last)",
      "\u001b[1;32m<ipython-input-2-4177dd0d14c5>\u001b[0m in \u001b[0;36m<module>\u001b[1;34m\u001b[0m\n\u001b[0;32m      1\u001b[0m \u001b[1;31m# before installing the mplsoccer library in anaconda\u001b[0m\u001b[1;33m\u001b[0m\u001b[1;33m\u001b[0m\u001b[1;33m\u001b[0m\u001b[0m\n\u001b[1;32m----> 2\u001b[1;33m \u001b[1;32mimport\u001b[0m \u001b[0mmplsoccer\u001b[0m\u001b[1;33m\u001b[0m\u001b[1;33m\u001b[0m\u001b[0m\n\u001b[0m",
      "\u001b[1;31mModuleNotFoundError\u001b[0m: No module named 'mplsoccer'"
     ]
    }
   ],
   "source": [
    "# before installing the mplsoccer library in anaconda\n",
    "import mplsoccer"
   ]
  },
  {
   "cell_type": "code",
   "execution_count": 4,
   "metadata": {},
   "outputs": [
    {
     "name": "stdout",
     "output_type": "stream",
     "text": [
      "Collecting mplsoccer\n",
      "  Downloading mplsoccer-1.2.4-py3-none-any.whl (79 kB)\n",
      "Requirement already satisfied: scipy in c:\\users\\b28658\\miniconda3\\lib\\site-packages (from mplsoccer) (1.5.2)\n",
      "Requirement already satisfied: requests in c:\\users\\b28658\\miniconda3\\lib\\site-packages (from mplsoccer) (2.32.3)\n",
      "Requirement already satisfied: numpy in c:\\users\\b28658\\miniconda3\\lib\\site-packages (from mplsoccer) (1.24.4)\n",
      "Requirement already satisfied: matplotlib>=3.6 in c:\\users\\b28658\\appdata\\roaming\\python\\python38\\site-packages (from mplsoccer) (3.7.5)\n",
      "Requirement already satisfied: pillow in c:\\users\\b28658\\miniconda3\\lib\\site-packages (from mplsoccer) (8.0.1)\n",
      "Requirement already satisfied: seaborn in c:\\users\\b28658\\miniconda3\\lib\\site-packages (from mplsoccer) (0.11.0)\n",
      "Requirement already satisfied: pandas in c:\\users\\b28658\\miniconda3\\lib\\site-packages (from mplsoccer) (2.0.3)\n",
      "Requirement already satisfied: charset-normalizer<4,>=2 in c:\\users\\b28658\\miniconda3\\lib\\site-packages (from requests->mplsoccer) (3.3.2)\n",
      "Requirement already satisfied: idna<4,>=2.5 in c:\\users\\b28658\\miniconda3\\lib\\site-packages (from requests->mplsoccer) (2.10)\n",
      "Requirement already satisfied: urllib3<3,>=1.21.1 in c:\\users\\b28658\\miniconda3\\lib\\site-packages (from requests->mplsoccer) (1.25.11)\n",
      "Requirement already satisfied: certifi>=2017.4.17 in c:\\users\\b28658\\miniconda3\\lib\\site-packages (from requests->mplsoccer) (2024.7.4)\n",
      "Requirement already satisfied: packaging>=20.0 in c:\\users\\b28658\\miniconda3\\lib\\site-packages (from matplotlib>=3.6->mplsoccer) (20.4)\n",
      "Requirement already satisfied: fonttools>=4.22.0 in c:\\users\\b28658\\miniconda3\\lib\\site-packages (from matplotlib>=3.6->mplsoccer) (4.53.1)\n",
      "Requirement already satisfied: cycler>=0.10 in c:\\users\\b28658\\miniconda3\\lib\\site-packages (from matplotlib>=3.6->mplsoccer) (0.10.0)\n",
      "Requirement already satisfied: python-dateutil>=2.7 in c:\\users\\b28658\\miniconda3\\lib\\site-packages (from matplotlib>=3.6->mplsoccer) (2.9.0.post0)\n",
      "Requirement already satisfied: kiwisolver>=1.0.1 in c:\\users\\b28658\\miniconda3\\lib\\site-packages (from matplotlib>=3.6->mplsoccer) (1.3.0)\n",
      "Requirement already satisfied: importlib-resources>=3.2.0; python_version < \"3.10\" in c:\\users\\b28658\\miniconda3\\lib\\site-packages (from matplotlib>=3.6->mplsoccer) (6.4.0)\n",
      "Requirement already satisfied: pyparsing>=2.3.1 in c:\\users\\b28658\\miniconda3\\lib\\site-packages (from matplotlib>=3.6->mplsoccer) (2.4.7)\n",
      "Requirement already satisfied: contourpy>=1.0.1 in c:\\users\\b28658\\miniconda3\\lib\\site-packages (from matplotlib>=3.6->mplsoccer) (1.1.1)\n",
      "Requirement already satisfied: tzdata>=2022.1 in c:\\users\\b28658\\miniconda3\\lib\\site-packages (from pandas->mplsoccer) (2024.1)\n",
      "Requirement already satisfied: pytz>=2020.1 in c:\\users\\b28658\\miniconda3\\lib\\site-packages (from pandas->mplsoccer) (2024.1)\n",
      "Requirement already satisfied: six in c:\\users\\b28658\\miniconda3\\lib\\site-packages (from packaging>=20.0->matplotlib>=3.6->mplsoccer) (1.15.0)\n",
      "Requirement already satisfied: zipp>=3.1.0; python_version < \"3.10\" in c:\\users\\b28658\\miniconda3\\lib\\site-packages (from importlib-resources>=3.2.0; python_version < \"3.10\"->matplotlib>=3.6->mplsoccer) (3.4.0)\n",
      "Installing collected packages: mplsoccer\n",
      "Successfully installed mplsoccer-1.2.4\n"
     ]
    }
   ],
   "source": [
    "# example installing mplsoccer library\n",
    "!pip install mplsoccer"
   ]
  },
  {
   "cell_type": "markdown",
   "metadata": {},
   "source": [
    "**We have now the library mplsoccer installed in our environment. Let's try to import it now.**"
   ]
  },
  {
   "cell_type": "code",
   "execution_count": 5,
   "metadata": {},
   "outputs": [],
   "source": [
    "# after installing the mplsoccer library in anaconda\n",
    "import mplsoccer"
   ]
  },
  {
   "cell_type": "markdown",
   "metadata": {},
   "source": [
    "# How to check library version"
   ]
  },
  {
   "cell_type": "code",
   "execution_count": 7,
   "metadata": {},
   "outputs": [
    {
     "data": {
      "text/plain": [
       "'1.2.4'"
      ]
     },
     "execution_count": 7,
     "metadata": {},
     "output_type": "execute_result"
    }
   ],
   "source": [
    "mplsoccer.__version__"
   ]
  },
  {
   "cell_type": "markdown",
   "metadata": {},
   "source": [
    "# How to upgrade libraries \"python packages\""
   ]
  },
  {
   "cell_type": "code",
   "execution_count": 8,
   "metadata": {},
   "outputs": [
    {
     "name": "stdout",
     "output_type": "stream",
     "text": [
      "Requirement already up-to-date: mplsoccer in c:\\users\\b28658\\miniconda3\\lib\\site-packages (1.2.4)\n",
      "Requirement already satisfied, skipping upgrade: requests in c:\\users\\b28658\\miniconda3\\lib\\site-packages (from mplsoccer) (2.32.3)\n",
      "Requirement already satisfied, skipping upgrade: pillow in c:\\users\\b28658\\miniconda3\\lib\\site-packages (from mplsoccer) (8.0.1)\n",
      "Requirement already satisfied, skipping upgrade: seaborn in c:\\users\\b28658\\miniconda3\\lib\\site-packages (from mplsoccer) (0.11.0)\n",
      "Requirement already satisfied, skipping upgrade: matplotlib>=3.6 in c:\\users\\b28658\\appdata\\roaming\\python\\python38\\site-packages (from mplsoccer) (3.7.5)\n",
      "Requirement already satisfied, skipping upgrade: numpy in c:\\users\\b28658\\miniconda3\\lib\\site-packages (from mplsoccer) (1.24.4)\n",
      "Requirement already satisfied, skipping upgrade: scipy in c:\\users\\b28658\\miniconda3\\lib\\site-packages (from mplsoccer) (1.5.2)\n",
      "Requirement already satisfied, skipping upgrade: pandas in c:\\users\\b28658\\miniconda3\\lib\\site-packages (from mplsoccer) (2.0.3)\n",
      "Requirement already satisfied, skipping upgrade: certifi>=2017.4.17 in c:\\users\\b28658\\miniconda3\\lib\\site-packages (from requests->mplsoccer) (2024.7.4)\n",
      "Requirement already satisfied, skipping upgrade: charset-normalizer<4,>=2 in c:\\users\\b28658\\miniconda3\\lib\\site-packages (from requests->mplsoccer) (3.3.2)\n",
      "Requirement already satisfied, skipping upgrade: idna<4,>=2.5 in c:\\users\\b28658\\miniconda3\\lib\\site-packages (from requests->mplsoccer) (2.10)\n",
      "Requirement already satisfied, skipping upgrade: urllib3<3,>=1.21.1 in c:\\users\\b28658\\miniconda3\\lib\\site-packages (from requests->mplsoccer) (1.25.11)\n",
      "Requirement already satisfied, skipping upgrade: contourpy>=1.0.1 in c:\\users\\b28658\\miniconda3\\lib\\site-packages (from matplotlib>=3.6->mplsoccer) (1.1.1)\n",
      "Requirement already satisfied, skipping upgrade: importlib-resources>=3.2.0; python_version < \"3.10\" in c:\\users\\b28658\\miniconda3\\lib\\site-packages (from matplotlib>=3.6->mplsoccer) (6.4.0)\n",
      "Requirement already satisfied, skipping upgrade: cycler>=0.10 in c:\\users\\b28658\\miniconda3\\lib\\site-packages (from matplotlib>=3.6->mplsoccer) (0.10.0)\n",
      "Requirement already satisfied, skipping upgrade: pyparsing>=2.3.1 in c:\\users\\b28658\\miniconda3\\lib\\site-packages (from matplotlib>=3.6->mplsoccer) (2.4.7)\n",
      "Requirement already satisfied, skipping upgrade: fonttools>=4.22.0 in c:\\users\\b28658\\miniconda3\\lib\\site-packages (from matplotlib>=3.6->mplsoccer) (4.53.1)\n",
      "Requirement already satisfied, skipping upgrade: kiwisolver>=1.0.1 in c:\\users\\b28658\\miniconda3\\lib\\site-packages (from matplotlib>=3.6->mplsoccer) (1.3.0)\n",
      "Requirement already satisfied, skipping upgrade: python-dateutil>=2.7 in c:\\users\\b28658\\miniconda3\\lib\\site-packages (from matplotlib>=3.6->mplsoccer) (2.9.0.post0)\n",
      "Requirement already satisfied, skipping upgrade: packaging>=20.0 in c:\\users\\b28658\\miniconda3\\lib\\site-packages (from matplotlib>=3.6->mplsoccer) (20.4)\n",
      "Requirement already satisfied, skipping upgrade: tzdata>=2022.1 in c:\\users\\b28658\\miniconda3\\lib\\site-packages (from pandas->mplsoccer) (2024.1)\n",
      "Requirement already satisfied, skipping upgrade: pytz>=2020.1 in c:\\users\\b28658\\miniconda3\\lib\\site-packages (from pandas->mplsoccer) (2024.1)\n",
      "Requirement already satisfied, skipping upgrade: zipp>=3.1.0; python_version < \"3.10\" in c:\\users\\b28658\\miniconda3\\lib\\site-packages (from importlib-resources>=3.2.0; python_version < \"3.10\"->matplotlib>=3.6->mplsoccer) (3.4.0)\n",
      "Requirement already satisfied, skipping upgrade: six in c:\\users\\b28658\\miniconda3\\lib\\site-packages (from cycler>=0.10->matplotlib>=3.6->mplsoccer) (1.15.0)\n",
      "Note: you may need to restart the kernel to use updated packages.\n"
     ]
    }
   ],
   "source": [
    "pip install mplsoccer --upgrade --user"
   ]
  },
  {
   "cell_type": "markdown",
   "metadata": {},
   "source": [
    "**In this case the library is already updated, that's why the requirements are all satisfied.**\n",
    "\n",
    "**Note: you may need to restart the kernel to use updated packages.**"
   ]
  },
  {
   "cell_type": "markdown",
   "metadata": {},
   "source": [
    "# How to install a specific library version\n",
    "\n",
    "Sometimes, we need to install a specific version of a library to avoid conflicts with other packages. This can occur when different packages in our project require different versions of the same library. Therefore, specifying the correct version helps maintain compatibility and prevent errors."
   ]
  },
  {
   "cell_type": "code",
   "execution_count": null,
   "metadata": {},
   "outputs": [],
   "source": [
    "# delete the brackets and replace with the package name and version\n",
    "!pip install {package}=={version}"
   ]
  }
 ],
 "metadata": {
  "kernelspec": {
   "display_name": "Python 3",
   "language": "python",
   "name": "python3"
  },
  "language_info": {
   "codemirror_mode": {
    "name": "ipython",
    "version": 3
   },
   "file_extension": ".py",
   "mimetype": "text/x-python",
   "name": "python",
   "nbconvert_exporter": "python",
   "pygments_lexer": "ipython3",
   "version": "3.8.5"
  }
 },
 "nbformat": 4,
 "nbformat_minor": 4
}
