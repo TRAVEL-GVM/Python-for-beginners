{
 "cells": [
  {
   "cell_type": "markdown",
   "metadata": {},
   "source": [
    "### Why use PySpark instead of Pandas?\n",
    "\n",
    "**Scalability and better performance for Big Data:**\n",
    "\n",
    "- **PySpark**: Designed to work with large volumes of data distributed across clusters. It can handle terabytes or even petabytes of data by distributing the processing across multiple machines. It utilizes parallel processing and can perform operations in a distributed manner, resulting in faster processing times for large datasets.\n",
    "- **Pandas**: Best suited for smaller datasets that fit into the memory of a single computer. It operates more sequentially and is limited by the resources of a single machine, which can lead to slower processing times for large datasets.\n",
    "\n",
    "**SQL Support:**\n",
    "\n",
    "- **PySpark**: Offers robust support for SQL queries through Spark SQL, allowing you to seamlessly mix DataFrame operations with SQL queries.\n",
    "- **Pandas**: Provides limited SQL query support through libraries like pandasql, but it is not as integrated or comprehensive as PySpark's support.\n"
   ]
  },
  {
   "cell_type": "markdown",
   "metadata": {},
   "source": [
    "Path variables"
   ]
  },
  {
   "cell_type": "code",
   "execution_count": 16,
   "metadata": {},
   "outputs": [],
   "source": [
    "username = '.....' # insert your username\n",
    "\n",
    "data_main_path = f'C:/Users/{username}/Novo Banco S.A/GVM Team - General/11_MarketRisk/PROCESSO_VALIDACAO_2024/01_MARKET_RISK/Valid Anual/05_DADOS/'\n",
    "euribors_path = data_main_path + 'euribors/'"
   ]
  },
  {
   "cell_type": "markdown",
   "metadata": {},
   "source": [
    "Import pyspark libraries"
   ]
  },
  {
   "cell_type": "code",
   "execution_count": 17,
   "metadata": {},
   "outputs": [],
   "source": [
    "from pyspark.sql import SparkSession\n",
    "from pyspark.sql.functions import col, to_date"
   ]
  },
  {
   "cell_type": "markdown",
   "metadata": {},
   "source": [
    "Initialize spark session"
   ]
  },
  {
   "cell_type": "code",
   "execution_count": 24,
   "metadata": {},
   "outputs": [],
   "source": [
    "spark = SparkSession.builder \\\n",
    "    .appName(\"EuriborDataProcessing\") \\\n",
    "    .getOrCreate()"
   ]
  },
  {
   "cell_type": "markdown",
   "metadata": {},
   "source": [
    "Loading and reading CSV files using spark"
   ]
  },
  {
   "cell_type": "code",
   "execution_count": 25,
   "metadata": {},
   "outputs": [],
   "source": [
    "df_euribor12m = spark.read.csv(euribors_path + 'Euribor12M.csv', header=True, inferSchema=True).drop(\"TIME PERIOD\")\n",
    "df_euribor12m = df_euribor12m.withColumn('DATE', to_date(col('DATE')))\n",
    "\n",
    "df_euribor6m = spark.read.csv(euribors_path + 'Euribor6M.csv', header=True, inferSchema=True).drop(\"TIME PERIOD\")\n",
    "df_euribor6m = df_euribor6m.withColumn('DATE', to_date(col('DATE')))\n",
    "\n",
    "df_euribor3m = spark.read.csv(euribors_path + 'Euribor3M.csv', header=True, inferSchema=True).drop(\"TIME PERIOD\")\n",
    "df_euribor3m = df_euribor3m.withColumn('DATE', to_date(col('DATE')))\n",
    "\n",
    "df_euribor1m = spark.read.csv(euribors_path + 'Euribor1M.csv', header=True, inferSchema=True).drop(\"TIME PERIOD\")\n",
    "df_euribor1m = df_euribor1m.withColumn('DATE', to_date(col('DATE')))"
   ]
  },
  {
   "cell_type": "markdown",
   "metadata": {},
   "source": [
    "Displaying dataframe first 4 rows"
   ]
  },
  {
   "cell_type": "code",
   "execution_count": 39,
   "metadata": {},
   "outputs": [
    {
     "name": "stdout",
     "output_type": "stream",
     "text": [
      "+----------+---------------------------------------------------------------------------------------------------------------+\n",
      "|      DATE|Euribor 1-month - Historical close, average of observations through period (FM.M.U2.EUR.RT.MM.EURIBOR1MD_.HSTA)|\n",
      "+----------+---------------------------------------------------------------------------------------------------------------+\n",
      "|1994-01-31|                                                                                                           7.12|\n",
      "|1994-02-28|                                                                                                           6.99|\n",
      "|1994-03-31|                                                                                                           6.84|\n",
      "|1994-04-30|                                                                                                           6.69|\n",
      "+----------+---------------------------------------------------------------------------------------------------------------+\n",
      "only showing top 4 rows\n",
      "\n"
     ]
    }
   ],
   "source": [
    "df_euribor1m.show(4)"
   ]
  },
  {
   "cell_type": "code",
   "execution_count": 27,
   "metadata": {},
   "outputs": [
    {
     "name": "stdout",
     "output_type": "stream",
     "text": [
      "root\n",
      " |-- DATE: date (nullable = true)\n",
      " |-- TIME PERIOD: string (nullable = true)\n",
      " |-- Euribor 1-month - Historical close, average of observations through period (FM.M.U2.EUR.RT.MM.EURIBOR1MD_.HSTA): double (nullable = true)\n",
      "\n"
     ]
    }
   ],
   "source": [
    "df.printSchema()"
   ]
  },
  {
   "cell_type": "markdown",
   "metadata": {},
   "source": [
    "Merging dataframes"
   ]
  },
  {
   "cell_type": "code",
   "execution_count": 28,
   "metadata": {},
   "outputs": [],
   "source": [
    "df_euribor_temp = df_euribor12m.join(df_euribor6m, on='DATE', how='left')\n",
    "df_euribor_temp = df_euribor_temp.join(df_euribor3m, on='DATE', how='left')\n",
    "df_euribor = df_euribor_temp.join(df_euribor1m, on='DATE', how='left')"
   ]
  },
  {
   "cell_type": "markdown",
   "metadata": {},
   "source": [
    "Renaming columns"
   ]
  },
  {
   "cell_type": "code",
   "execution_count": 30,
   "metadata": {},
   "outputs": [],
   "source": [
    "df_euribor = df_euribor.withColumnRenamed(\"DATE\", \"Date\") \\\n",
    "                       .withColumnRenamed(df_euribor12m.columns[1], \"Euribor12M\") \\\n",
    "                       .withColumnRenamed(df_euribor6m.columns[1], \"Euribor6M\") \\\n",
    "                       .withColumnRenamed(df_euribor3m.columns[1], \"Euribor3M\") \\\n",
    "                       .withColumnRenamed(df_euribor1m.columns[1], \"Euribor1M\")"
   ]
  },
  {
   "cell_type": "markdown",
   "metadata": {},
   "source": [
    "Filtering dataframe"
   ]
  },
  {
   "cell_type": "code",
   "execution_count": 31,
   "metadata": {},
   "outputs": [],
   "source": [
    "df_euribor = df_euribor.filter(df_euribor['Date'] >= '2020-01-01')"
   ]
  },
  {
   "cell_type": "code",
   "execution_count": 32,
   "metadata": {},
   "outputs": [
    {
     "name": "stdout",
     "output_type": "stream",
     "text": [
      "+----------+----------+---------+---------+---------+\n",
      "|      Date|Euribor12M|Euribor6M|Euribor3M|Euribor1M|\n",
      "+----------+----------+---------+---------+---------+\n",
      "|2020-01-31|   -0.2534|  -0.3301|  -0.3911|  -0.4569|\n",
      "|2020-02-29|   -0.2881|  -0.3552|  -0.4089|  -0.4731|\n",
      "|2020-03-31|   -0.2656|  -0.3649|  -0.4166|  -0.4777|\n",
      "|2020-04-30|   -0.1082|   -0.192|  -0.2541|  -0.4281|\n",
      "|2020-05-31|   -0.0814|  -0.1431|   -0.272|  -0.4643|\n",
      "|2020-06-30|   -0.1475|  -0.2227|   -0.376|  -0.4929|\n",
      "|2020-07-31|   -0.2789|  -0.3461|  -0.4441|  -0.5088|\n",
      "|2020-08-31|   -0.3589|  -0.4329|  -0.4797|  -0.5173|\n",
      "|2020-09-30|   -0.4146|  -0.4626|  -0.4914|  -0.5217|\n",
      "|2020-10-31|    -0.466|   -0.494|  -0.5091|  -0.5385|\n",
      "|2020-11-30|   -0.4806|   -0.509|  -0.5209|  -0.5414|\n",
      "|2020-12-31|   -0.4966|  -0.5186|  -0.5381|  -0.5607|\n",
      "|2021-01-31|   -0.5047|  -0.5285|  -0.5472|  -0.5621|\n",
      "|2021-02-28|   -0.5009|  -0.5205|  -0.5411|  -0.5534|\n",
      "|2021-03-31|   -0.4867|   -0.516|  -0.5391|  -0.5534|\n",
      "|2021-04-30|   -0.4835|  -0.5158|  -0.5382|   -0.555|\n",
      "|2021-05-31|   -0.4806|   -0.513|  -0.5401|  -0.5579|\n",
      "|2021-06-30|   -0.4839|   -0.515|  -0.5429|  -0.5546|\n",
      "|2021-07-31|   -0.4907|   -0.516|  -0.5448|  -0.5562|\n",
      "|2021-08-31|   -0.4982|  -0.5274|  -0.5476|  -0.5601|\n",
      "+----------+----------+---------+---------+---------+\n",
      "only showing top 20 rows\n",
      "\n"
     ]
    }
   ],
   "source": [
    "df_euribor.show()"
   ]
  },
  {
   "cell_type": "markdown",
   "metadata": {},
   "source": [
    "Selecting only the 'Date', 'Euribor12M' and 'Euribor6M' columns"
   ]
  },
  {
   "cell_type": "code",
   "execution_count": 36,
   "metadata": {},
   "outputs": [
    {
     "name": "stdout",
     "output_type": "stream",
     "text": [
      "+----------+----------+---------+\n",
      "|      Date|Euribor12M|Euribor6M|\n",
      "+----------+----------+---------+\n",
      "|2020-01-31|   -0.2534|  -0.3301|\n",
      "|2020-02-29|   -0.2881|  -0.3552|\n",
      "|2020-03-31|   -0.2656|  -0.3649|\n",
      "|2020-04-30|   -0.1082|   -0.192|\n",
      "|2020-05-31|   -0.0814|  -0.1431|\n",
      "|2020-06-30|   -0.1475|  -0.2227|\n",
      "|2020-07-31|   -0.2789|  -0.3461|\n",
      "|2020-08-31|   -0.3589|  -0.4329|\n",
      "|2020-09-30|   -0.4146|  -0.4626|\n",
      "|2020-10-31|    -0.466|   -0.494|\n",
      "|2020-11-30|   -0.4806|   -0.509|\n",
      "|2020-12-31|   -0.4966|  -0.5186|\n",
      "|2021-01-31|   -0.5047|  -0.5285|\n",
      "|2021-02-28|   -0.5009|  -0.5205|\n",
      "|2021-03-31|   -0.4867|   -0.516|\n",
      "|2021-04-30|   -0.4835|  -0.5158|\n",
      "|2021-05-31|   -0.4806|   -0.513|\n",
      "|2021-06-30|   -0.4839|   -0.515|\n",
      "|2021-07-31|   -0.4907|   -0.516|\n",
      "|2021-08-31|   -0.4982|  -0.5274|\n",
      "+----------+----------+---------+\n",
      "only showing top 20 rows\n",
      "\n"
     ]
    }
   ],
   "source": [
    "df_euribor_selected = df_euribor.select('Date', 'Euribor12M', 'Euribor6M')\n",
    "\n",
    "df_euribor_selected.show()"
   ]
  },
  {
   "cell_type": "markdown",
   "metadata": {},
   "source": [
    "Converting PySpark dataframe to a pandas DataFrame"
   ]
  },
  {
   "cell_type": "code",
   "execution_count": 33,
   "metadata": {},
   "outputs": [
    {
     "data": {
      "text/html": [
       "<div>\n",
       "<style scoped>\n",
       "    .dataframe tbody tr th:only-of-type {\n",
       "        vertical-align: middle;\n",
       "    }\n",
       "\n",
       "    .dataframe tbody tr th {\n",
       "        vertical-align: top;\n",
       "    }\n",
       "\n",
       "    .dataframe thead th {\n",
       "        text-align: right;\n",
       "    }\n",
       "</style>\n",
       "<table border=\"1\" class=\"dataframe\">\n",
       "  <thead>\n",
       "    <tr style=\"text-align: right;\">\n",
       "      <th></th>\n",
       "      <th>Date</th>\n",
       "      <th>Euribor12M</th>\n",
       "      <th>Euribor6M</th>\n",
       "      <th>Euribor3M</th>\n",
       "      <th>Euribor1M</th>\n",
       "    </tr>\n",
       "  </thead>\n",
       "  <tbody>\n",
       "    <tr>\n",
       "      <th>0</th>\n",
       "      <td>2020-01-31</td>\n",
       "      <td>-0.2534</td>\n",
       "      <td>-0.3301</td>\n",
       "      <td>-0.3911</td>\n",
       "      <td>-0.4569</td>\n",
       "    </tr>\n",
       "    <tr>\n",
       "      <th>1</th>\n",
       "      <td>2020-02-29</td>\n",
       "      <td>-0.2881</td>\n",
       "      <td>-0.3552</td>\n",
       "      <td>-0.4089</td>\n",
       "      <td>-0.4731</td>\n",
       "    </tr>\n",
       "    <tr>\n",
       "      <th>2</th>\n",
       "      <td>2020-03-31</td>\n",
       "      <td>-0.2656</td>\n",
       "      <td>-0.3649</td>\n",
       "      <td>-0.4166</td>\n",
       "      <td>-0.4777</td>\n",
       "    </tr>\n",
       "    <tr>\n",
       "      <th>3</th>\n",
       "      <td>2020-04-30</td>\n",
       "      <td>-0.1082</td>\n",
       "      <td>-0.1920</td>\n",
       "      <td>-0.2541</td>\n",
       "      <td>-0.4281</td>\n",
       "    </tr>\n",
       "    <tr>\n",
       "      <th>4</th>\n",
       "      <td>2020-05-31</td>\n",
       "      <td>-0.0814</td>\n",
       "      <td>-0.1431</td>\n",
       "      <td>-0.2720</td>\n",
       "      <td>-0.4643</td>\n",
       "    </tr>\n",
       "  </tbody>\n",
       "</table>\n",
       "</div>"
      ],
      "text/plain": [
       "         Date  Euribor12M  Euribor6M  Euribor3M  Euribor1M\n",
       "0  2020-01-31     -0.2534    -0.3301    -0.3911    -0.4569\n",
       "1  2020-02-29     -0.2881    -0.3552    -0.4089    -0.4731\n",
       "2  2020-03-31     -0.2656    -0.3649    -0.4166    -0.4777\n",
       "3  2020-04-30     -0.1082    -0.1920    -0.2541    -0.4281\n",
       "4  2020-05-31     -0.0814    -0.1431    -0.2720    -0.4643"
      ]
     },
     "execution_count": 33,
     "metadata": {},
     "output_type": "execute_result"
    }
   ],
   "source": [
    "df_euribor_pandas = df_euribor.toPandas()\n",
    "df_euribor_pandas.head()"
   ]
  },
  {
   "cell_type": "code",
   "execution_count": 35,
   "metadata": {},
   "outputs": [
    {
     "data": {
      "image/png": "[encoded data removed]",
      "text/plain": [
       "<Figure size 864x432 with 1 Axes>"
      ]
     },
     "metadata": {
      "needs_background": "light"
     },
     "output_type": "display_data"
    }
   ],
   "source": [
    "import matplotlib.pyplot as plt\n",
    "\n",
    "# Ploting data\n",
    "plt.figure(figsize=(12, 6))\n",
    "plt.plot(df_euribor_pandas['Date'], df_euribor_pandas['Euribor12M'], label='Euribor 12M')\n",
    "plt.plot(df_euribor_pandas['Date'], df_euribor_pandas['Euribor6M'], label='Euribor 6M')\n",
    "plt.plot(df_euribor_pandas['Date'], df_euribor_pandas['Euribor3M'], label='Euribor 3M')\n",
    "plt.plot(df_euribor_pandas['Date'], df_euribor_pandas['Euribor1M'], label='Euribor 1M')\n",
    "\n",
    "\n",
    "plt.xlabel('Date')\n",
    "plt.ylabel('Euribor Rate')\n",
    "plt.title('Euribor Rates Over Time')\n",
    "plt.legend()\n",
    "plt.grid(True)\n",
    "plt.show()"
   ]
  },
  {
   "cell_type": "code",
   "execution_count": 43,
   "metadata": {},
   "outputs": [
    {
     "name": "stdout",
     "output_type": "stream",
     "text": [
      "+----------+----------+---------+---------+---------+\n",
      "|      Date|Euribor12M|Euribor6M|Euribor3M|Euribor1M|\n",
      "+----------+----------+---------+---------+---------+\n",
      "|2020-01-31|   -0.2534|  -0.3301|  -0.3911|  -0.4569|\n",
      "|2020-02-29|   -0.2881|  -0.3552|  -0.4089|  -0.4731|\n",
      "+----------+----------+---------+---------+---------+\n",
      "only showing top 2 rows\n",
      "\n"
     ]
    }
   ],
   "source": [
    "df_test = df_euribor.withColumn(\"Euribor12M\", col(\"Euribor12M\").cast(\"string\"))\n",
    "\n",
    "df_test.show(2)"
   ]
  },
  {
   "cell_type": "code",
   "execution_count": 45,
   "metadata": {},
   "outputs": [
    {
     "name": "stdout",
     "output_type": "stream",
     "text": [
      "root\n",
      " |-- Date: date (nullable = true)\n",
      " |-- Euribor12M: string (nullable = true)\n",
      " |-- Euribor6M: double (nullable = true)\n",
      " |-- Euribor3M: double (nullable = true)\n",
      " |-- Euribor1M: double (nullable = true)\n",
      "\n"
     ]
    }
   ],
   "source": [
    "df_test.printSchema()"
   ]
  },
  {
   "cell_type": "markdown",
   "metadata": {},
   "source": [
    "**Finishing Spark session**\n",
    "\n",
    "You should close the Spark Session at the end of your script or notebook, after completing all data processing operations. Closing the session releases the resources allocated by Spark, avoiding memory waste and other computational resources."
   ]
  },
  {
   "cell_type": "code",
   "execution_count": 46,
   "metadata": {},
   "outputs": [],
   "source": [
    "spark.stop()"
   ]
  },
  {
   "cell_type": "markdown",
   "metadata": {},
   "source": [
    "# Load data from Oracle using PySpark and Spark SQL"
   ]
  },
  {
   "cell_type": "markdown",
   "metadata": {},
   "source": [
    "Initializing spark session and config definitions"
   ]
  },
  {
   "cell_type": "code",
   "execution_count": 48,
   "metadata": {},
   "outputs": [],
   "source": [
    "spark = SparkSession.builder \\\n",
    "    .appName(\"Load Data from Oracle\") \\\n",
    "    .config(\"spark.some.config.option\", \"some-value\") \\\n",
    "    .getOrCreate()"
   ]
  },
  {
   "cell_type": "markdown",
   "metadata": {},
   "source": [
    "Define Oracle database conections configs"
   ]
  },
  {
   "cell_type": "code",
   "execution_count": 49,
   "metadata": {},
   "outputs": [],
   "source": [
    "url = \"jdbc:oracle:thin:@//host:port/service_name\"\n",
    "properties = {\n",
    "    \"user\": \"seu_usuario\",\n",
    "    \"password\": \"sua_senha\",\n",
    "    \"driver\": \"oracle.jdbc.driver.OracleDriver\"\n",
    "}"
   ]
  },
  {
   "cell_type": "markdown",
   "metadata": {},
   "source": [
    "Write SQL query to access the data"
   ]
  },
  {
   "cell_type": "code",
   "execution_count": 50,
   "metadata": {},
   "outputs": [],
   "source": [
    "table_path = \"your_table_path\" # insert your table path\n",
    "\n",
    "query = f\"SELECT * FROM {table_path}\""
   ]
  },
  {
   "cell_type": "markdown",
   "metadata": {},
   "source": [
    "Loading data from Spark SQL"
   ]
  },
  {
   "cell_type": "code",
   "execution_count": null,
   "metadata": {},
   "outputs": [],
   "source": [
    "df = spark.read.jdbc(url=url, table=query, properties=properties)\n",
    "\n",
    "df.show()"
   ]
  },
  {
   "cell_type": "code",
   "execution_count": null,
   "metadata": {},
   "outputs": [],
   "source": [
    "spark.stop()"
   ]
  }
 ],
 "metadata": {
  "kernelspec": {
   "display_name": "Python 3",
   "language": "python",
   "name": "python3"
  },
  "language_info": {
   "codemirror_mode": {
    "name": "ipython",
    "version": 3
   },
   "file_extension": ".py",
   "mimetype": "text/x-python",
   "name": "python",
   "nbconvert_exporter": "python",
   "pygments_lexer": "ipython3",
   "version": "3.8.5"
  }
 },
 "nbformat": 4,
 "nbformat_minor": 4
}
