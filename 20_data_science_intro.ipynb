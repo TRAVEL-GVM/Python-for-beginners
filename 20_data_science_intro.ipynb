{
 "cells": [
  {
   "cell_type": "markdown",
   "id": "0bb4036a-48a5-402f-bbfc-0beed1552ee7",
   "metadata": {},
   "source": [
    "# Python data science intro\n",
    "\n",
    "An introduction to python data science libraries\n",
    "\n",
    "_2024 César Freire_\n",
    "\n",
    "* [Numpy](#numpy)\n",
    "* [Pandas](#pandas)\n",
    "* [Matplotlib](#matplotlib)\n",
    "\n",
    "### Libraries"
   ]
  },
  {
   "cell_type": "code",
   "execution_count": null,
   "id": "0fb9c3ad",
   "metadata": {},
   "outputs": [],
   "source": [
    "%pip install numpy pandas matplotlib -q"
   ]
  },
  {
   "cell_type": "markdown",
   "id": "892aac65-9521-4179-95bc-f695b94cc506",
   "metadata": {},
   "source": [
    "## Numpy\n",
    "https://numpy.org/\n",
    "\n",
    "__NumPy__ is the fundamental package for scientific computing in Python. It is a Python library that provides a multidimensional array object, various derived objects (such as masked arrays and matrices), and an assortment of routines for fast operations on arrays, including mathematical, logical, shape manipulation, sorting, selecting, I/O, discrete Fourier transforms, basic linear algebra, basic statistical operations, random simulation and much more.\n",
    "\n",
    "### CheatSheets\n",
    "\n",
    "https://assets.datacamp.com/blog_assets/Numpy_Python_Cheat_Sheet.pdf"
   ]
  },
  {
   "cell_type": "code",
   "execution_count": null,
   "id": "0e38d5ac-1962-47d1-afb7-d81708d29611",
   "metadata": {},
   "outputs": [],
   "source": [
    "# code example\n",
    "import numpy as np\n",
    "\n",
    "# Create 10 uniform samples\n",
    "sample = np.random.randint(1,11, size=10)\n",
    "sample"
   ]
  },
  {
   "cell_type": "code",
   "execution_count": null,
   "id": "86d15937-7fcd-4a22-870f-240ace57bb9d",
   "metadata": {},
   "outputs": [],
   "source": [
    "# ideally mean will be 5\n",
    "\n",
    "sample.mean()"
   ]
  },
  {
   "cell_type": "markdown",
   "id": "dd863caf-8fd0-46de-a6de-3e3bddb727ce",
   "metadata": {},
   "source": [
    "### Motivation to numpy\n",
    "Pre-compiled in C lang"
   ]
  },
  {
   "cell_type": "code",
   "execution_count": null,
   "id": "6f218702-09cf-446e-93d2-1803f72a2ea4",
   "metadata": {},
   "outputs": [],
   "source": [
    "%timeit [x for x in range(100_000)]"
   ]
  },
  {
   "cell_type": "code",
   "execution_count": null,
   "id": "a216f0c9-4475-43b9-98b8-d9cf58bee2d0",
   "metadata": {},
   "outputs": [],
   "source": [
    "%timeit np.arange(100_000)"
   ]
  },
  {
   "cell_type": "markdown",
   "id": "46f1b13d",
   "metadata": {},
   "source": [
    "## Byte code"
   ]
  },
  {
   "cell_type": "code",
   "execution_count": null,
   "id": "7a749b92",
   "metadata": {},
   "outputs": [],
   "source": [
    "import dis\n",
    "\n",
    "dis.dis(\"[x for x in range(100_000)]\")"
   ]
  },
  {
   "cell_type": "code",
   "execution_count": null,
   "id": "a57b27a5",
   "metadata": {},
   "outputs": [],
   "source": [
    "dis.dis(\"np.arange(100_000)\")"
   ]
  },
  {
   "cell_type": "markdown",
   "id": "49fe4b03-6005-4bd1-9099-93516b1d7d50",
   "metadata": {},
   "source": [
    "### Numpy array object\n",
    "Most used properties\n",
    "\n",
    "* shape\n",
    "* size\n",
    "* ndim\n",
    "* nbytes\n",
    "* itemsize\n",
    "* dtype"
   ]
  },
  {
   "cell_type": "code",
   "execution_count": null,
   "id": "cc068ea1-7b5b-4de2-8b1b-6257479710be",
   "metadata": {},
   "outputs": [],
   "source": [
    "array = np.array([[1,2], [3,4], [5,6]])\n",
    "array"
   ]
  },
  {
   "cell_type": "code",
   "execution_count": null,
   "id": "290e4980-3087-41db-9af4-334349c4e619",
   "metadata": {},
   "outputs": [],
   "source": [
    "# try your properties here\n",
    "\n",
    "array.dtype"
   ]
  },
  {
   "cell_type": "markdown",
   "id": "dd0a3c5c-95ed-4953-ac8c-f6d5930fe29d",
   "metadata": {},
   "source": [
    "### Numpy data types (dtype)\n",
    "* `int` (8 bits ... 64 bits)\n",
    "* `uint` (8bits ... 64 bits)\n",
    "* `float` (16 bits ... 128 bits)\n",
    "* `complex` (64 bits ... 256 bits)\n",
    "* `bool`"
   ]
  },
  {
   "cell_type": "code",
   "execution_count": null,
   "id": "3e69d8e8-2462-423e-af6b-a5985b0ff00d",
   "metadata": {},
   "outputs": [],
   "source": [
    "# forcing 16bits (float)\n",
    "\n",
    "array = np.array([[1,2], [3,4], [5,6]], dtype=np.float16)\n",
    "array"
   ]
  },
  {
   "cell_type": "markdown",
   "id": "a357e73e-2385-4192-ab02-42c891516453",
   "metadata": {},
   "source": [
    "### Reshape data"
   ]
  },
  {
   "cell_type": "code",
   "execution_count": null,
   "id": "6cbdf19f-9419-4427-a4be-9aedd2cb25d4",
   "metadata": {},
   "outputs": [],
   "source": [
    "array = np.arange(10)\n",
    "array"
   ]
  },
  {
   "cell_type": "code",
   "execution_count": null,
   "id": "710cefe8-fb56-4ca9-93b9-00231a254691",
   "metadata": {},
   "outputs": [],
   "source": [
    "array.reshape(5,2)"
   ]
  },
  {
   "cell_type": "markdown",
   "id": "bb78ea59-d3ac-4ed9-b544-624c076c91d9",
   "metadata": {},
   "source": [
    "### Slicing data\n",
    "__NOTE:__ Arrays index start at zero"
   ]
  },
  {
   "cell_type": "code",
   "execution_count": null,
   "id": "587db08c-339e-4b59-b040-dc9d5acb3b7d",
   "metadata": {},
   "outputs": [],
   "source": [
    "array = np.arange(1, 101).reshape(10,10)\n",
    "array"
   ]
  },
  {
   "cell_type": "code",
   "execution_count": null,
   "id": "de59c45b-3bed-49b6-a8a7-d5b6dde344e0",
   "metadata": {},
   "outputs": [],
   "source": [
    "array[1]  # second line"
   ]
  },
  {
   "cell_type": "code",
   "execution_count": null,
   "id": "8db864d3-f2ac-4b54-8eb2-56c2e3967ff6",
   "metadata": {},
   "outputs": [],
   "source": [
    "array[-1]  # last line"
   ]
  },
  {
   "cell_type": "code",
   "execution_count": null,
   "id": "4b20ea8b-6310-43f5-90ba-e2a2f219506c",
   "metadata": {},
   "outputs": [],
   "source": [
    "array[1,1]  # second row second column"
   ]
  },
  {
   "cell_type": "code",
   "execution_count": null,
   "id": "b12c9577-1585-4fc9-a09e-5eef92b29b62",
   "metadata": {},
   "outputs": [],
   "source": [
    "array[:2]  # first two lines"
   ]
  },
  {
   "cell_type": "code",
   "execution_count": null,
   "id": "bd3cbb36-27ed-4298-b622-601f7e375279",
   "metadata": {},
   "outputs": [],
   "source": [
    "array[1:4:2]  # second and forth lines"
   ]
  },
  {
   "cell_type": "code",
   "execution_count": null,
   "id": "3315a867-7318-48ac-8a51-87333a7c7d2a",
   "metadata": {},
   "outputs": [],
   "source": [
    "# exercise: extract last column\n",
    "array[:,-1]"
   ]
  },
  {
   "cell_type": "markdown",
   "id": "d9a68f9d-d75d-491a-bc0e-7e875643a194",
   "metadata": {},
   "source": [
    "### Operations"
   ]
  },
  {
   "cell_type": "code",
   "execution_count": null,
   "id": "c712a726-f8c3-43bf-8575-47f902eb1ba8",
   "metadata": {},
   "outputs": [],
   "source": [
    "x = np.array([[1,2], [3,4]])\n",
    "y = np.array([[5,6], [7,8]])"
   ]
  },
  {
   "cell_type": "code",
   "execution_count": null,
   "id": "8c590f0c-7986-4220-bf2b-ecfd1e73dbb3",
   "metadata": {},
   "outputs": [],
   "source": [
    "y-x"
   ]
  },
  {
   "cell_type": "code",
   "execution_count": null,
   "id": "232e23ed-bb1f-4d4c-89aa-6e4e1be46e58",
   "metadata": {},
   "outputs": [],
   "source": [
    "np.concatenate([x, y])"
   ]
  },
  {
   "cell_type": "markdown",
   "id": "1c4b5904-f4e1-4acd-8834-219ee77b5e77",
   "metadata": {},
   "source": [
    "### More info\n",
    "https://numpy.org/doc/stable/user/absolute_beginners.html"
   ]
  },
  {
   "cell_type": "markdown",
   "id": "2dbb4e85-75b8-492a-a71a-a2d71545519e",
   "metadata": {},
   "source": [
    "### NumPy exercises"
   ]
  },
  {
   "cell_type": "markdown",
   "id": "70542f88-bc1c-4de5-971c-9c159f76d05c",
   "metadata": {},
   "source": [
    "1. Write a NumPy program to create an manual array with the values 1, 7, 13, 105 and determine the size of the memory occupied by the array.\n",
    "2. Write a NumPy program to create a vector with values ​​ranging from 15 to 55 and print all values ​​except the first and last.\n",
    "3. Write a NumPy program to create a 3x4 matrix filled with values ​​from 10 to 21.\n",
    "4. Write a NumPy program to create a 2D array with 1 on the border and 0 inside."
   ]
  },
  {
   "cell_type": "code",
   "execution_count": null,
   "id": "85da3d71-a61e-4ab3-a0e0-c6da219dc6dc",
   "metadata": {},
   "outputs": [],
   "source": [
    "# Ex: 1\n"
   ]
  },
  {
   "cell_type": "code",
   "execution_count": null,
   "id": "c7caa7a2-89d6-4065-9a7f-71480136558e",
   "metadata": {},
   "outputs": [],
   "source": [
    "# Ex: 2\n"
   ]
  },
  {
   "cell_type": "code",
   "execution_count": null,
   "id": "e721d630-4f0b-4b48-86d0-a1b26257cf42",
   "metadata": {},
   "outputs": [],
   "source": [
    "# Ex: 3\n"
   ]
  },
  {
   "cell_type": "code",
   "execution_count": null,
   "id": "644bcbcd-1d13-4e7e-9737-c3f348006e98",
   "metadata": {},
   "outputs": [],
   "source": [
    "# Ex: 4\n"
   ]
  },
  {
   "cell_type": "markdown",
   "id": "74d77f05-ef4a-4af9-aa3b-7f98c058a0c5",
   "metadata": {},
   "source": [
    "## Pandas\n",
    "https://pandas.pydata.org/\n",
    "\n",
    "__pandas__ is a Python package providing fast, flexible, and expressive data structures designed to make working with “relational” or “labeled” data both easy and intuitive. It aims to be the fundamental high-level building block for doing practical, real-world data analysis in Python. Additionally, it has the broader goal of becoming the most powerful and flexible open source data analysis/manipulation tool available in any language. It is already well on its way toward this goal\n",
    "\n",
    "The two primary data structures of pandas, __Series__ (1-dimensional) and __DataFrame__ (2-dimensional), handle the vast majority of typical use cases in finance, statistics, social science, and many areas of engineering.\n",
    "\n",
    "### Cheat Sheets\n",
    "\n",
    "https://pandas.pydata.org/Pandas_Cheat_Sheet.pdf\n"
   ]
  },
  {
   "cell_type": "markdown",
   "id": "19a69d33-1780-42c0-a46a-620c3ba2a070",
   "metadata": {},
   "source": [
    "### Series"
   ]
  },
  {
   "cell_type": "code",
   "execution_count": null,
   "id": "ed2e4363-7bc9-4b51-ac08-7f1c62962350",
   "metadata": {},
   "outputs": [],
   "source": [
    "import pandas as pd\n",
    "import numpy as np\n",
    "\n",
    "# Create data from numpy\n",
    "data = pd.Series(np.random.rand(10))\n",
    "data"
   ]
  },
  {
   "cell_type": "code",
   "execution_count": null,
   "id": "0de661b7-7416-4eb9-8698-40fb8a9cab9c",
   "metadata": {},
   "outputs": [],
   "source": [
    "pd.set_option('display.precision', 3)\n",
    "data.describe()"
   ]
  },
  {
   "cell_type": "markdown",
   "id": "b4628cd3-a8d8-48f1-aad9-36548c9efae6",
   "metadata": {},
   "source": [
    "__Slicing__  \n",
    "index start at zero"
   ]
  },
  {
   "cell_type": "code",
   "execution_count": null,
   "id": "3cc9b6d9-d8bf-414d-a228-1764bab29f66",
   "metadata": {},
   "outputs": [],
   "source": [
    "data[:2]  # first and second"
   ]
  },
  {
   "cell_type": "code",
   "execution_count": null,
   "id": "f9066ff1-f1ad-4871-ad56-a64de95aa8b0",
   "metadata": {},
   "outputs": [],
   "source": [
    "data[ data > 0.6 ] # logical slices"
   ]
  },
  {
   "cell_type": "code",
   "execution_count": null,
   "id": "28f86efb-c65a-4a0b-b498-491b5e08fc01",
   "metadata": {},
   "outputs": [],
   "source": [
    "# data is a numpy array\n",
    "data.dtypes"
   ]
  },
  {
   "cell_type": "code",
   "execution_count": null,
   "id": "c6210381-5a57-4e4b-8366-469cfc37085d",
   "metadata": {},
   "outputs": [],
   "source": [
    "# numpy operations are allow\n",
    "np.mean(data)"
   ]
  },
  {
   "cell_type": "code",
   "execution_count": null,
   "id": "dcf0576f-7b3a-43ee-b287-d960bc19c4d0",
   "metadata": {},
   "outputs": [],
   "source": [
    "data.mean()"
   ]
  },
  {
   "cell_type": "markdown",
   "id": "81f2a528-f3de-4681-bb71-9991ca4849db",
   "metadata": {},
   "source": [
    "### DataFrame\n",
    "DataFrame is an 2-dimensional labeled array. Its column types can be heterogeneous:\n",
    "that is, of varying types. It is similar to structured arrays in NumPy with mutability\n",
    "added. It has the following properties:\n",
    "* Conceptually analogous to a table or spreadsheet of data.\n",
    "* Similar to a NumPy ndarray but not a subclass of np.ndarray.\n",
    "* Columns can be of heterogeneous types: float64, int, bool, and so on.\n",
    "* A DataFrame column is a Series structure.\n",
    "* It can be thought of as a dictionary of Series structures where both the\n",
    "columns and the rows are indexed, denoted as 'index' in the case of rows\n",
    "and 'columns' in the case of columns.\n",
    "* It is size mutable: columns can be inserted and deleted."
   ]
  },
  {
   "cell_type": "code",
   "execution_count": null,
   "id": "6306bc4e-07b7-492e-bfca-92d783809701",
   "metadata": {},
   "outputs": [],
   "source": [
    "# Example creating a DF from dictionaries and series\n",
    "stockSummaries = {\n",
    "    'AMZN': pd.Series([346.15,0.59,459,0.52,589.8,158.88],\n",
    "    index=['Closing price','EPS', 'Shares Outstanding(M)','Beta', 'P/E','Market Cap(B)']),\n",
    "    'GOOG': pd.Series([1133.43,36.05,335.83,0.87,31.44,380.64],\n",
    "    index=['Closing price','EPS','Shares Outstanding(M)', 'Beta','P/E','Market Cap(B)']),\n",
    "}\n",
    "\n",
    "stock = pd.DataFrame(stockSummaries)\n",
    "stock"
   ]
  },
  {
   "cell_type": "markdown",
   "id": "d6772717-c545-4c3b-8808-3870bac1cf8b",
   "metadata": {},
   "source": [
    "__Operations__\n",
    "* Selection\n",
    "* Assignment\n",
    "* Deletion"
   ]
  },
  {
   "cell_type": "code",
   "execution_count": null,
   "id": "21f38c2e-aded-450b-bab3-c8fcbb8addda",
   "metadata": {},
   "outputs": [],
   "source": [
    "# Selection\n",
    "stock['AMZN']\n",
    "stock.AMZN "
   ]
  },
  {
   "cell_type": "code",
   "execution_count": null,
   "id": "531ca0d4-b453-4ab7-9e80-53e96fdb86a2",
   "metadata": {},
   "outputs": [],
   "source": [
    "# Assignment\n",
    "stock['AMZN']['Beta'] = 0.6\n",
    "stock"
   ]
  },
  {
   "cell_type": "code",
   "execution_count": null,
   "id": "5d08de9c-39db-437d-9b2f-ab5df1e4b112",
   "metadata": {},
   "outputs": [],
   "source": [
    "# Deletion\n",
    "try:\n",
    "    del stock['GOOG']\n",
    "except KeyError:  # Exception\n",
    "    pass\n",
    "\n",
    "stock"
   ]
  },
  {
   "cell_type": "markdown",
   "id": "d52e047c-22c5-4dd3-9a5c-7eb37d082b66",
   "metadata": {},
   "source": [
    "### Importing data\n",
    "https://pandas.pydata.org/docs/getting_started/intro_tutorials/02_read_write.html\n",
    "\n",
    "* CSV\n",
    "* SQL\n",
    "* json\n",
    "* excel\n",
    "* (others)"
   ]
  },
  {
   "cell_type": "markdown",
   "id": "1cf0a11e",
   "metadata": {},
   "source": [
    "#### Import CSV\n",
    "\n",
    "__IPMA API__\n",
    "\n",
    "https://api.ipma.pt/\n",
    "\n",
    "Download file at the following url and upload to jupyter/colab/local data folder\n",
    "\n",
    "`http://api.ipma.pt/open-data/observation/climate/precipitation-total/leiria/mrrto-1006-caldas-da-rainha.csv`\n",
    "\n",
    "__NOTE:__\n",
    "\n",
    "On some system can be possible to download directy into PANDAS"
   ]
  },
  {
   "cell_type": "code",
   "execution_count": null,
   "id": "759996db-29ad-4095-9936-547fec3fe8b8",
   "metadata": {},
   "outputs": [],
   "source": [
    "import pandas as pd\n",
    "\n",
    "file = '../data/mrrto-1006-caldas-da-rainha.csv'\n",
    "\n",
    "precipitation_data = pd.read_csv(file, index_col='date', parse_dates=['date'])\n",
    "precipitation_data.head()\n"
   ]
  },
  {
   "cell_type": "markdown",
   "id": "6c102ce8",
   "metadata": {},
   "source": [
    "#### Importing from JSON\n",
    "\n",
    "__Worldwide public holidays__\n",
    "\n",
    "https://date.nager.at/\n",
    "\n",
    "`https://date.nager.at/api/v3/publicholidays/2024/PT`\n",
    "\n",
    "__NOTE__: If direct import fail, copy-paste file"
   ]
  },
  {
   "cell_type": "code",
   "execution_count": null,
   "id": "cb8d23aa",
   "metadata": {},
   "outputs": [],
   "source": [
    "url = \"https://date.nager.at/api/v3/publicholidays/2024/PT\""
   ]
  },
  {
   "cell_type": "code",
   "execution_count": null,
   "id": "14282de2",
   "metadata": {},
   "outputs": [],
   "source": [
    "import sys\n",
    "\n",
    "public_holidays_data = None\n",
    "\n",
    "if sys.platform != 'emscripten':\n",
    "    public_holidays_data = pd.read_json(url)\n",
    "else:\n",
    "    import pyodide.http\n",
    "    import json\n",
    "    with pyodide.http.open_url(url) as f:\n",
    "        public_holidays_data = pd.DataFrame(json.loads(f.getvalue()))\n",
    "\n",
    "public_holidays_data"
   ]
  },
  {
   "cell_type": "markdown",
   "id": "6bd18ccc-6104-4932-b80e-296c3e928eeb",
   "metadata": {},
   "source": [
    "### Importing SQL\n",
    "\n",
    "SimpleFolks for Simple SQL\n",
    "\n",
    "[http://2016.padjo.org/files/data/starterpack/simplefolks.sqlite](http://2016.padjo.org/files/data/starterpack/simplefolks.sqlite)\n",
    "\n",
    "Download sqlite file to local DATA folder\n",
    "\n",
    "SQL Lite Viewer ONLINE\n",
    "\n",
    "[https://inloop.github.io/sqlite-viewer/](https://inloop.github.io/sqlite-viewer/)"
   ]
  },
  {
   "cell_type": "code",
   "execution_count": null,
   "id": "3a7df894-6745-48f8-9497-c33b41591a1d",
   "metadata": {},
   "outputs": [],
   "source": [
    "%pip install -q  sqlalchemy"
   ]
  },
  {
   "cell_type": "code",
   "execution_count": null,
   "id": "cc0d720b",
   "metadata": {},
   "outputs": [],
   "source": [
    "sql_connection = 'sqlite:///../data/simplefolks.sqlite'"
   ]
  },
  {
   "cell_type": "code",
   "execution_count": null,
   "id": "2dc8c442-5d54-42bc-805b-49c94fccb0b9",
   "metadata": {},
   "outputs": [],
   "source": [
    "# VSCODE / Colab\n",
    "sql_data = None\n",
    "\n",
    "if sys.platform != 'emscripten':\n",
    "    sql_data = pd.read_sql('SELECT * FROM homes WHERE area=\"urban\" ORDER BY value', \n",
    "                con=sql_connection)\n",
    "sql_data"
   ]
  },
  {
   "cell_type": "code",
   "execution_count": null,
   "id": "1d18695e",
   "metadata": {},
   "outputs": [],
   "source": [
    "# JupyterLite solution\n",
    "\n",
    "from sqlalchemy import create_engine, text\n",
    "\n",
    "if sys.platform == 'emscripten':\n",
    "    sql_connection = 'sqlite:///../data/simplefolks.sqlite'\n",
    "    \n",
    "    engine = create_engine(sql_connection)\n",
    "    sql_data = pd.DataFrame(engine.connect().execute(text('SELECT * FROM homes WHERE area=\"urban\" ORDER BY value')))\n",
    "sql_data"
   ]
  },
  {
   "cell_type": "markdown",
   "id": "21e59e0e-feb6-4708-8711-e27649996d5f",
   "metadata": {},
   "source": [
    "### Label Indexing\n",
    "https://pandas.pydata.org/docs/reference/api/pandas.DataFrame.loc.html\n",
    "\n",
    "In addition to the standard indexing operator [] and attribute operator, there\n",
    "are operators provided in pandas to make the job of indexing easier and more\n",
    "convenient.\n",
    "* `.loc` logic operator\n",
    "* `.iloc` index operator"
   ]
  },
  {
   "cell_type": "code",
   "execution_count": null,
   "id": "3aa95e1e-b600-462f-81c6-d6fb60f999f5",
   "metadata": {},
   "outputs": [],
   "source": [
    "from datetime import date, timedelta\n",
    "\n",
    "# Using precipitation data from IPMA\n",
    "\n",
    "some_days_ago = str(date.today() - timedelta(days=4))\n",
    "print(some_days_ago)\n",
    "precipitation_data.loc[some_days_ago]"
   ]
  },
  {
   "cell_type": "code",
   "execution_count": null,
   "id": "0a173c7e-41b5-4b5e-b885-a6f1e1f36c5a",
   "metadata": {},
   "outputs": [],
   "source": [
    "# Boolean filters (AND & ) (OR | ) (NOT ~ )\n",
    "precipitation_data.loc[ (precipitation_data['mean'] > 5) & (precipitation_data['minimum'] < 5) ]"
   ]
  },
  {
   "cell_type": "markdown",
   "id": "2bb1a0da-8033-43dc-b5dc-529628881b73",
   "metadata": {},
   "source": [
    "__label index__ operator"
   ]
  },
  {
   "cell_type": "code",
   "execution_count": null,
   "id": "e82a920d-0d17-4bdf-89bc-631514f64a0f",
   "metadata": {},
   "outputs": [],
   "source": [
    "# code\n",
    "precipitation_data.iloc[:2]"
   ]
  },
  {
   "cell_type": "code",
   "execution_count": null,
   "id": "9d8cbb6b-d384-4138-b7f3-ae48ef830b38",
   "metadata": {},
   "outputs": [],
   "source": [
    "# code\n",
    "precipitation_data.iloc[:2,3] # 1,2 (4ª column)"
   ]
  },
  {
   "cell_type": "markdown",
   "id": "544fdca3-9e3d-41bb-b2a8-51150e25879f",
   "metadata": {},
   "source": [
    "### Groupby of data\n",
    "https://pandas.pydata.org/docs/reference/groupby.html#groupby\n"
   ]
  },
  {
   "cell_type": "code",
   "execution_count": null,
   "id": "707e123b-eaa6-4dc1-8194-0c190863e822",
   "metadata": {},
   "outputs": [],
   "source": [
    "# Using data from SQL\n",
    "from sqlalchemy import create_engine, text\n",
    "\n",
    "engine = create_engine(sql_connection)\n",
    "sql_data = pd.DataFrame(engine.connect().execute(text('SELECT area, value FROM homes')))\n",
    "sql_data"
   ]
  },
  {
   "cell_type": "code",
   "execution_count": null,
   "id": "091537a4-3397-4865-9cce-9ca4a4fc1aa1",
   "metadata": {},
   "outputs": [],
   "source": [
    "# code\n",
    "data_areas = sql_data.groupby('area')\n",
    "data_areas.groups"
   ]
  },
  {
   "cell_type": "code",
   "execution_count": null,
   "id": "0a95f946-021e-4e7b-9627-4dac8bcbfdd9",
   "metadata": {},
   "outputs": [],
   "source": [
    "# show size\n",
    "data_areas.size()"
   ]
  },
  {
   "cell_type": "markdown",
   "id": "8aa935e5-dcc4-43af-aa82-3159035f80c9",
   "metadata": {},
   "source": [
    "### Aggregate method\n",
    "https://pandas.pydata.org/docs/reference/api/pandas.core.groupby.DataFrameGroupBy.aggregate.html"
   ]
  },
  {
   "cell_type": "code",
   "execution_count": null,
   "id": "ea8f7943-f837-423c-855f-ef178f596a21",
   "metadata": {},
   "outputs": [],
   "source": [
    "# aggregate code\n",
    "sql_data.groupby('area').agg(['mean', 'std'])"
   ]
  },
  {
   "cell_type": "markdown",
   "id": "e861dc5c-3e66-4ba6-b4a2-8a938b498fd9",
   "metadata": {},
   "source": [
    "### Pivots and reshaping data\n",
    "https://pandas.pydata.org/docs/user_guide/reshaping.html#pivot\n",
    "\n",
    "This section deals with how you can reshape data. Sometimes, data is stored in\n",
    "what is known as the stacked format"
   ]
  },
  {
   "cell_type": "code",
   "execution_count": null,
   "id": "dfa213d5-a91c-4bcc-83f8-6e214242542e",
   "metadata": {},
   "outputs": [],
   "source": [
    "# Get all data from SQL\n",
    "sql_data = pd.read_sql('SELECT * FROM homes', con=sql_connection)\n",
    "sql_data"
   ]
  },
  {
   "cell_type": "code",
   "execution_count": null,
   "id": "09a96ee0-c97f-4c1c-a382-de2fe73e6455",
   "metadata": {},
   "outputs": [],
   "source": [
    "# pivot table\n",
    "pd.pivot_table(sql_data, values='value', index='owner_name', aggfunc='sum')"
   ]
  },
  {
   "cell_type": "markdown",
   "id": "060fdeaa-9493-42ec-912a-a90a20c7c70f",
   "metadata": {},
   "source": [
    "### Value counts\n",
    "https://pandas.pydata.org/docs/reference/api/pandas.DataFrame.value_counts.html#pandas.DataFrame.value_counts\n",
    "\n",
    "Return a Series containing the frequency of each distinct row in the Dataframe."
   ]
  },
  {
   "cell_type": "code",
   "execution_count": null,
   "id": "4e8929fb-733a-4c01-9e5d-427cc70d1007",
   "metadata": {},
   "outputs": [],
   "source": [
    "# code\n",
    "sql_data['owner_name'].value_counts(normalize='index') * 100"
   ]
  },
  {
   "cell_type": "markdown",
   "id": "d520ef76-9e56-4343-92c4-7c70db8816be",
   "metadata": {},
   "source": [
    "### More info\n",
    "https://pandas.pydata.org/docs/user_guide/10min.html#min"
   ]
  },
  {
   "cell_type": "markdown",
   "id": "623aada9-a0bf-48ad-b6af-6e93fd32e864",
   "metadata": {},
   "source": [
    "### Pandas exercises\n",
    "1. Write a Pandas program to convert a dictionary to a Pandas series:\n",
    "\n",
    "```python\n",
    "d1 = {'a': 100, 'b': 200, 'c':300, 'd':400, 'e':800}\n",
    "```\n",
    " \n",
    "2. Write a Pandas program to compute the minimum, 25th percentile, median, 75th, and maximum, count and std of a given series from 100 uniform random numbers, `describe` the `Series`\n",
    "\n",
    "3. Write a Pandas program to select the 'name' and 'score' columns from the following dictionary\n",
    "\n",
    "```python\n",
    "exam_data = {'name': ['Anastasia', 'Dima', 'Katherine', 'James', 'Emily', 'Michael', 'Matthew', 'Laura', 'Kevin'],\n",
    "  'score': [12.5, 9, 16.5, np.nan, 9, 20, 14.5, np.nan, 8],\n",
    "  'attempts': [1, 3, 2, 3, 2, 3, 1, 1, 2],\n",
    "  'qualify': ['yes', 'no', 'yes', 'no', 'no', 'yes', 'yes', 'no', 'no']}\n",
    "  \n",
    "labels = ['a', 'b', 'c', 'd', 'e', 'f', 'g', 'h', 'i']\n",
    "```\n",
    "4. Write a Pandas program to select the rows where number of attempts in the examination is less than 3 and score greater than 15. Use data from last exercise\n",
    "\n",
    "5. Write a Pandas program to group by the `attempts` and prints the average `score`"
   ]
  },
  {
   "cell_type": "code",
   "execution_count": null,
   "id": "94c45086-d21a-4d84-b222-cc4571a7622a",
   "metadata": {},
   "outputs": [],
   "source": [
    "# Ex: 1\n"
   ]
  },
  {
   "cell_type": "code",
   "execution_count": null,
   "id": "91a58d9f-1cc1-4dc7-b619-b887427dee98",
   "metadata": {},
   "outputs": [],
   "source": [
    "# Ex: 2\n"
   ]
  },
  {
   "cell_type": "code",
   "execution_count": null,
   "id": "2f01fae5-df3f-4af3-bad4-7a6b42323f37",
   "metadata": {},
   "outputs": [],
   "source": [
    "# Ex: 3\n"
   ]
  },
  {
   "cell_type": "code",
   "execution_count": null,
   "id": "6134715c-404d-42a8-9d79-76eb7052d0ca",
   "metadata": {},
   "outputs": [],
   "source": [
    "# Ex: 4\n"
   ]
  },
  {
   "cell_type": "code",
   "execution_count": null,
   "id": "5add5ab7-3c28-4b91-b6b3-6f07d26131fa",
   "metadata": {},
   "outputs": [],
   "source": [
    "# Ex: 5\n"
   ]
  },
  {
   "cell_type": "markdown",
   "id": "0bf5969f-8c41-4c05-97ab-bd4d7d482d36",
   "metadata": {},
   "source": [
    "## Matplotlib\n",
    "https://matplotlib.org/\n",
    "\n",
    "Matplotlib is a comprehensive library for creating static, animated, and interactive visualizations in Python. Matplotlib makes easy things easy and hard things possible.\n",
    "\n",
    "### CheatSheets\n",
    "\n",
    "https://matplotlib.org/cheatsheets/"
   ]
  },
  {
   "cell_type": "code",
   "execution_count": null,
   "id": "4ff81a9d-41bb-4ce5-8da8-cb4d7c386090",
   "metadata": {},
   "outputs": [],
   "source": [
    "from matplotlib import pyplot as plt\n",
    "\n",
    "x = np.linspace(0, 2*np.pi, 100)\n",
    "y = np.sin(x)\n",
    "\n",
    "plt.plot(x, y, marker='.', alpha=0.5)\n",
    "plt.title('sin func')\n",
    "plt.xlabel('\\u03C0')\n",
    "plt.grid(linestyle='--')\n",
    "plt.show()"
   ]
  },
  {
   "cell_type": "markdown",
   "id": "2ebe1f43-adf9-4bcb-9b82-47052b31639a",
   "metadata": {},
   "source": [
    "### Bar plots and legends"
   ]
  },
  {
   "cell_type": "code",
   "execution_count": null,
   "id": "efba7c2c-128f-4013-9f3a-05086368d80d",
   "metadata": {},
   "outputs": [],
   "source": [
    "fruits = ['apple', 'blueberry', 'cherry', 'orange']\n",
    "counts = [40, 100, 30, 55]\n",
    "bar_labels = ['red', 'blue', '_red', 'orange']\n",
    "bar_colors = ['tab:red', 'tab:blue', 'tab:red', 'tab:orange']\n",
    "\n",
    "plt.bar(fruits, counts, label=bar_labels, color=bar_colors)\n",
    "\n",
    "plt.ylabel('fruit supply')\n",
    "plt.title('Fruit supply by kind and color')\n",
    "plt.legend(title='Fruit color')\n",
    "\n",
    "plt.show()"
   ]
  },
  {
   "cell_type": "markdown",
   "id": "36286bac-45dc-47bd-9e1e-69073d64e125",
   "metadata": {},
   "source": [
    "### Sub plots and grids"
   ]
  },
  {
   "cell_type": "code",
   "execution_count": null,
   "id": "5172f747-3ce2-4e9a-b0f9-19f5c3d07ca3",
   "metadata": {},
   "outputs": [],
   "source": [
    "# Fixing random state for reproducibility\n",
    "np.random.seed(19680801)\n",
    "\n",
    "dt = 0.01\n",
    "t = np.arange(0, 30, dt)\n",
    "nse1 = np.random.randn(len(t))   # white noise 1\n",
    "nse2 = np.random.randn(len(t))   # white noise 2\n",
    "\n",
    "# Two signals with a coherent part at 10 Hz and a random part\n",
    "s1 = np.sin(2 * np.pi * 10 * t) + nse1\n",
    "s2 = np.sin(2 * np.pi * 10 * t) + nse2\n",
    "\n",
    "fig, axs = plt.subplots(2, 1)\n",
    "axs[0].plot(t, s1, t, s2)\n",
    "axs[0].set_xlim(0, 2)\n",
    "axs[0].set_xlabel('Time')\n",
    "axs[0].set_ylabel('s1 and s2')\n",
    "axs[0].grid(True)\n",
    "\n",
    "axs[1].cohere(s1, s2, 256, 1. / dt)\n",
    "axs[1].set_ylabel('Coherence')\n",
    "fig.tight_layout()"
   ]
  },
  {
   "cell_type": "code",
   "execution_count": null,
   "id": "4a709414",
   "metadata": {},
   "outputs": [],
   "source": [
    "# example 2\n",
    "\n",
    "x1 = np.random.randn(1_000)  # normal\n",
    "x2 = np.random.rand(1_000)  # uniform\n",
    "\n",
    "# rows=2, columns=2\n",
    "plt.subplot(221)\n",
    "plt.plot(x1)\n",
    "plt.title('Normal distribution')\n",
    "\n",
    "plt.subplot(222)  \n",
    "plt.plot(x2, color='red')\n",
    "plt.title('Uniform distribution')\n",
    "\n",
    "plt.subplot(223)\n",
    "plt.hist(x1)\n",
    "\n",
    "plt.subplot(224)\n",
    "plt.hist(x2, color='red')\n",
    "\n",
    "plt.show()"
   ]
  },
  {
   "cell_type": "markdown",
   "id": "16c7abfb-9b95-4d16-99a2-67947c45589e",
   "metadata": {},
   "source": [
    "### Confidence bands"
   ]
  },
  {
   "cell_type": "code",
   "execution_count": null,
   "id": "602bcc36-2226-40ff-ae0b-4b45d9eebf73",
   "metadata": {},
   "outputs": [],
   "source": [
    "N = 21\n",
    "x = np.linspace(0, 10, 11)\n",
    "y = [3.9, 4.4, 10.8, 10.3, 11.2, 13.1, 14.1,  9.9, 13.9, 15.1, 12.5]\n",
    "\n",
    "# fit a linear curve and estimate its y-values and their error.\n",
    "a, b = np.polyfit(x, y, deg=1)\n",
    "y_est = a * x + b\n",
    "y_err = x.std() * np.sqrt(1/len(x) +\n",
    "                          (x - x.mean())**2 / np.sum((x - x.mean())**2))\n",
    "\n",
    "fig, ax = plt.subplots()\n",
    "ax.plot(x, y_est, 'b-')\n",
    "ax.fill_between(x, y_est - y_err, y_est + y_err, alpha=0.2)\n",
    "ax.plot(x, y, 'o')\n",
    "ax.grid(linestyle='--')\n",
    "\n",
    "plt.show()"
   ]
  },
  {
   "cell_type": "markdown",
   "id": "d5d5ab9c-a596-45e3-9e77-343faeaf8198",
   "metadata": {},
   "source": [
    "### Plot images\n",
    "\n",
    "https://en.wikipedia.org/wiki/Grace_Hopper"
   ]
  },
  {
   "cell_type": "code",
   "execution_count": null,
   "id": "23e660e7-ef8b-46b1-affa-73eeb36fb7e5",
   "metadata": {},
   "outputs": [],
   "source": [
    "import matplotlib.patches as patches\n",
    "import matplotlib.cbook as cbook\n",
    "\n",
    "with cbook.get_sample_data('grace_hopper.jpg') as image_file:\n",
    "    image = plt.imread(image_file)\n",
    "\n",
    "fig, ax = plt.subplots()\n",
    "im = ax.imshow(image)\n",
    "patch = patches.Circle((260, 200), radius=200, transform=ax.transData)\n",
    "im.set_clip_path(patch)\n",
    "\n",
    "ax.axis('off')\n",
    "plt.show()"
   ]
  },
  {
   "cell_type": "markdown",
   "id": "6623b069-0dd7-4808-93ae-e64abb426162",
   "metadata": {},
   "source": [
    "### Pandas integration"
   ]
  },
  {
   "cell_type": "code",
   "execution_count": null,
   "id": "14be70a7-a5b8-4ab5-b63d-a378cdff0cbb",
   "metadata": {},
   "outputs": [],
   "source": [
    "# Data from IPMA \n",
    "\n",
    "precipitation_data['mean'].plot(style='go--',\n",
    "                  figsize=(12,4), \n",
    "                  grid=True, \n",
    "                  title='Precipitation', \n",
    "                  ylabel='mm')\n",
    "plt.show()"
   ]
  },
  {
   "cell_type": "markdown",
   "id": "ef5c4e83-96e3-4958-85a3-c29c8f0b7be2",
   "metadata": {},
   "source": [
    "### Exercises\n",
    "https://api.ipma.pt/open-data/observation/climate/precipitation-total/\n",
    "\n",
    "Get __Precipitação total diária por concelho (formato CSV)__ for your town \n",
    "\n",
    "1. Plot `mean` over time for your city and `figsize` 16x4\n",
    "2. Plot `minimum` and `maximum` over time with legend\n",
    "3. Create two boxplot for `minimum` and `maximum` values for last month precipitation\n",
    "4. Aggreggate percipitation of `mean` per month with mean function and create a bar plot"
   ]
  },
  {
   "cell_type": "code",
   "execution_count": null,
   "id": "38a55d7b-eb06-4197-81d7-63c3daf0a5ab",
   "metadata": {},
   "outputs": [],
   "source": [
    "# Ex: 1\n"
   ]
  },
  {
   "cell_type": "code",
   "execution_count": null,
   "id": "4ccc5364-8fac-4a17-8c22-6e0c9e4f7148",
   "metadata": {},
   "outputs": [],
   "source": [
    "# Ex: 2\n"
   ]
  },
  {
   "cell_type": "code",
   "execution_count": null,
   "id": "d516411e-13fa-423a-96a5-d310855d1c23",
   "metadata": {},
   "outputs": [],
   "source": [
    "# Ex. 3\n"
   ]
  },
  {
   "cell_type": "code",
   "execution_count": null,
   "id": "7b3cd83e-2d4d-41e4-bb9d-8a3c1487783f",
   "metadata": {},
   "outputs": [],
   "source": [
    "# Ex: 4\n"
   ]
  },
  {
   "cell_type": "markdown",
   "id": "7cebbeea",
   "metadata": {},
   "source": [
    "## Are you finish\n",
    "![](https://www.thesquirepresents.co.uk/wp-content/uploads/2020/10/Smashing-Pumpkins-1990-Album.jpg)"
   ]
  },
  {
   "cell_type": "markdown",
   "id": "160358b1",
   "metadata": {},
   "source": [
    "__Solutions__\n",
    "\n",
    "__numpy__\n",
    "\n",
    "    # Ex: 1\n",
    "    np.array([1,7,13,105], dtype=np.uint8).nbytes\n",
    "\n",
    "    # Ex: 2\n",
    "    np.arange(15,56, dtype=np.uint8)[1:-1]\n",
    "\n",
    "    # Ex: 3\n",
    "    np.arange(10,22).reshape(3, 4)\n",
    "\n",
    "    # Ex: 4\n",
    "    dim = (5,5)\n",
    "    matrix = np.ones(dim, dtype=np.uint8)\n",
    "    matrix[1:-1,1:-1] = 0\n",
    "    matrix\n",
    "\n",
    "    \n",
    "__pandas__\n",
    "\n",
    "    # Ex: 1\n",
    "    d1 = {'a': 100, 'b': 200, 'c':300, 'd':400, 'e':800}\n",
    "    pd.Series(d1, dtype=pd.Int32Dtype())\n",
    "\n",
    "    # Ex: 2\n",
    "    x = pd.Series(np.random.randint(1,101, 100))\n",
    "    x.describe()\n",
    "\n",
    "    # Ex: 3\n",
    "    exam_data = {'name': ['Anastasia', 'Dima', 'Katherine', 'James', 'Emily', 'Michael', 'Matthew', 'Laura', 'Kevin'],\n",
    "      'score': [12.5, 9, 16.5, np.nan, 9, 20, 14.5, np.nan, 8],\n",
    "      'attempts': [1, 3, 2, 3, 2, 3, 1, 1, 2],\n",
    "      'qualify': ['yes', 'no', 'yes', 'no', 'no', 'yes', 'yes', 'no', 'no']}\n",
    "    labels = ['a', 'b', 'c', 'd', 'e', 'f', 'g', 'h', 'i']\n",
    "    x = pd.DataFrame(exam_data, index=labels)\n",
    "    x[['name', 'score']]  # double list too allow more columns\n",
    "\n",
    "    # Ex: 4\n",
    "    x.loc[ (x.attempts < 3) & (x.score > 15) ]\n",
    "\n",
    "    # Ex: 5\n",
    "    x.groupby('attempts').mean('score')\n",
    "\n",
    "__matplotlib__\n",
    "\n",
    "\n",
    "    # Ex: 1\n",
    "    url = 'http://api.ipma.pt/open-data/observation/climate/' \\\n",
    "          'precipitation-total/leiria/mrrto-1006-caldas-da-rainha.csv'\n",
    "    data = pd.read_csv(url, index_col='date', parse_dates=['date'])\n",
    "    data['mean'].plot(figsize=(16,4));\n",
    "\n",
    "    # Ex: 2\n",
    "    data[['minimum','maximum']].plot();\n",
    "\n",
    "    # Ex. 3\n",
    "    df = data.loc[ data.index >= '2024-05-01']\n",
    "    df[['minimum','maximum']].plot(kind='box', vert=False, \n",
    "                                  showfliers=False, patch_artist=True, \n",
    "                                  figsize=(14,3), xlabel='mm', \n",
    "                                  title='Precipitation (last month)');\n",
    "    # Ex: 4\n",
    "    data.groupby(data.index.strftime('%B')).mean()['maximum'].plot(kind='bar');"
   ]
  }
 ],
 "metadata": {
  "kernelspec": {
   "display_name": "venv",
   "language": "python",
   "name": "python3"
  },
  "language_info": {
   "codemirror_mode": {
    "name": "ipython",
    "version": 3
   },
   "file_extension": ".py",
   "mimetype": "text/x-python",
   "name": "python",
   "nbconvert_exporter": "python",
   "pygments_lexer": "ipython3",
   "version": "3.12.3"
  }
 },
 "nbformat": 4,
 "nbformat_minor": 5
}
